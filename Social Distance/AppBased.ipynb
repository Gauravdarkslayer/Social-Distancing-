{
 "cells": [
  {
   "cell_type": "code",
   "execution_count": null,
   "metadata": {},
   "outputs": [],
   "source": [
    "'''\n",
    "In this faces are being detected using opencv haar cascase classifier.\n",
    "Then distance between people is calculated.\n",
    "If they are closer than a particular threshold,\n",
    "Then their identities will be sent to authorities\n",
    "'''"
   ]
  },
  {
   "cell_type": "code",
   "execution_count": 3,
   "metadata": {},
   "outputs": [
    {
     "name": "stdout",
     "output_type": "stream",
     "text": [
      "P 1 - P 2 = 135.00370365289984\n",
      "P 1 - P 3 = 340.82400150224163\n",
      "P 1 - P 4 = 144.81022063376605\n",
      "P 2 - P 3 = 220.2203442009843\n",
      "P 2 - P 4 = 263.3476789341421\n",
      "P 3 - P 4 = 430.84684053617013\n",
      "Person 1 and Person 2 ; Person 1 and Person 4 ;  are not following social distancing \n"
     ]
    }
   ],
   "source": [
    "import math\n",
    "import cv2\n",
    "\n",
    "faceCascade = cv2.CascadeClassifier('haarcascade_frontalface_default.xml')\n",
    "img = cv2.imread('4.jpg')\n",
    "gray = cv2.cvtColor(img, cv2.COLOR_BGR2GRAY)\n",
    "faces = faceCascade.detectMultiScale(gray, scaleFactor=1.2, minNeighbors=5, minSize=(20, 20))\n",
    "l=[]\n",
    "lf=[]\n",
    "i=1\n",
    "for (x,y,w,h) in faces:\n",
    "    cv2.rectangle(img,(x,y),(x+w,y+h),(255,0,0),2)\n",
    "    roi_gray = gray[y:y+h, x:x+w]\n",
    "    roi_color = img[y:y+h, x:x+w] \n",
    "    s=str(i)\n",
    "    cv2.putText(img, s, (x,y), cv2.FONT_HERSHEY_SIMPLEX, 1, (0, 0, 255),2)\n",
    "    i+=1\n",
    "    l=[]\n",
    "    l.append(x)\n",
    "    l.append(y)\n",
    "    lf.append(l)\n",
    "    \n",
    "close_person=\"\"\n",
    "for i in range(len(lf)):\n",
    "    for j in range(i+1,len(lf)):\n",
    "        d=math.sqrt( ((lf[j][1]-lf[i][1])**2)+((lf[j][0]-lf[i][0])**2) )\n",
    "        print(\"P\",i+1,\"- P\",j+1,\"=\",d)\n",
    "        if d<150:\n",
    "            close_person+=\"Person \"+str(i+1)+\" and Person \"+str(j+1)+\" ; \"\n",
    "\n",
    "close_person+=\" are not following social distancing \"\n",
    "\n",
    "print(close_person)            \n",
    "            \n",
    "from boltiot import Sms\n",
    "SID = 'AC393a58a67e6fd42291a45c0de298df7d' \n",
    "AUTH_TOKEN = '4752733f679570a5cac3df34973cc613' \n",
    "FROM_NUMBER = '(605) 413-1584'\n",
    "TO_NUMBER = '+917742874654'\n",
    "sms = Sms(SID, AUTH_TOKEN, TO_NUMBER, FROM_NUMBER)\n",
    "#sms.send_sms(close_person) \n",
    "        \n",
    "        \n",
    "cv2.imshow('Face Distance',img)\n",
    "cv2.waitKey(0)\n",
    "cv2.destroyAllWindows()"
   ]
  }
 ],
 "metadata": {
  "kernelspec": {
   "display_name": "Python 3",
   "language": "python",
   "name": "python3"
  },
  "language_info": {
   "codemirror_mode": {
    "name": "ipython",
    "version": 3
   },
   "file_extension": ".py",
   "mimetype": "text/x-python",
   "name": "python",
   "nbconvert_exporter": "python",
   "pygments_lexer": "ipython3",
   "version": "3.6.8"
  }
 },
 "nbformat": 4,
 "nbformat_minor": 2
}
